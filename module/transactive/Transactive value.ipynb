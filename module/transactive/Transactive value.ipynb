{
 "cells": [
  {
   "cell_type": "markdown",
   "metadata": {},
   "source": [
    "This document describe the computation of the *Transactive Value*, a property of any transactive system that describes the total value that can be attributed to the feasible configurations of a transactive system."
   ]
  },
  {
   "cell_type": "markdown",
   "metadata": {},
   "source": [
    "# Agent surplus\n",
    "\n",
    "The agent surplus is the difference between the agent minimum value to participate and the value received in the a given configuration.  An agent will not participate if the surplus is negative, and an agent will show a preference for any configuration which increases his surplus, given the choice.  In an incentive compatible system, the agent surplus is always maximized when the agent submit bids that accurately represent the minimum cost and maximum surplus state of the agent."
   ]
  },
  {
   "cell_type": "markdown",
   "metadata": {},
   "source": [
    "## Example"
   ]
  },
  {
   "cell_type": "code",
   "execution_count": 3,
   "metadata": {},
   "outputs": [
    {
     "name": "stdout",
     "output_type": "stream",
     "text": [
      "Surplus = 125\n"
     ]
    }
   ],
   "source": [
    "bid = 10\n",
    "quantity = 25\n",
    "price = 15\n",
    "surplus = price*quantity - bid*quantity \n",
    "print(\"Surplus =\",surplus)"
   ]
  },
  {
   "cell_type": "markdown",
   "metadata": {},
   "source": [
    "# Feasible configuration\n",
    "\n",
    "A feasible configuration is an arrangement of suppliers, network, and consumers wherein the supply is equal to the demand plus the distribution losses through the network."
   ]
  },
  {
   "cell_type": "markdown",
   "metadata": {},
   "source": [
    "# State Value\n",
    "\n",
    "The value is the total surplus associated with a configuration."
   ]
  },
  {
   "cell_type": "markdown",
   "metadata": {},
   "source": [
    "# State Degeneracy\n",
    "\n",
    "The degeneracy of a state is the count of configuration that have the same value associated with that state.  The greater the degeneracy of a state, the probable the state is, *cetera paribus*."
   ]
  },
  {
   "cell_type": "markdown",
   "metadata": {},
   "source": [
    "# Preferred configuration\n",
    "\n",
    "The preferred configuration is the one where there is no arrangement of the suppliers, network, and consumers that has greater surplus for a given agent that has chosen to participate."
   ]
  },
  {
   "cell_type": "code",
   "execution_count": null,
   "metadata": {},
   "outputs": [],
   "source": []
  }
 ],
 "metadata": {
  "kernelspec": {
   "display_name": "Python 3",
   "language": "python",
   "name": "python3"
  },
  "language_info": {
   "codemirror_mode": {
    "name": "ipython",
    "version": 3
   },
   "file_extension": ".py",
   "mimetype": "text/x-python",
   "name": "python",
   "nbconvert_exporter": "python",
   "pygments_lexer": "ipython3",
   "version": "3.7.3"
  }
 },
 "nbformat": 4,
 "nbformat_minor": 2
}
