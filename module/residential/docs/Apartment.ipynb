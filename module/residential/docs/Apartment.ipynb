{
 "cells": [
  {
   "cell_type": "markdown",
   "metadata": {},
   "source": [
    "This document provides the technical support manual for the multi-family apartment building model."
   ]
  },
  {
   "cell_type": "markdown",
   "metadata": {},
   "source": [
    "# Apartment Model"
   ]
  },
  {
   "cell_type": "markdown",
   "metadata": {},
   "source": [
    "The apartment building model in GridLAB-D represents multi-storey, multi-tenant residential buildings.  The building must have more than 1 floor and more than 1 unit.  The building may have partial occupancy, and the vacant units are assumed to have not end-use loads, and only minimal space conditioning.  \n",
    "\n",
    "Circulation may be outdoor, or indoor (with or without space conditioning).  If indoor, the circulation may be units on only one or on both sides. Circulation is assumed to be linear ending at the perimeter walls.\n",
    "\n",
    "The building may be equipped with central heating and/or cooling, using a forced air, two-pipe, or four-pipe system. Apartment units may also have independent heating, cooling, and ventilation."
   ]
  },
  {
   "cell_type": "markdown",
   "metadata": {},
   "source": [
    "# Model Parameters\n",
    "\n",
    "The building model parameters are grouped into the following categories.\n",
    "\n",
    "- `building`: Parameters relating to the entire building.\n",
    "- `core`: Parameters relating to the building core.\n",
    "- `parking`: Parameters relating to the parking structure (if any).\n",
    "- `power`: Parameters relating to the electric power systems.\n",
    "- `system`: Parameters relating to the building systems.\n",
    "- `unit`: Parameters relating to the apartment units.\n",
    "- `vacant`: Paremeters relating to the vacant units."
   ]
  },
  {
   "cell_type": "markdown",
   "metadata": {},
   "source": [
    "## Building Parameters\n",
    "\n",
    "- `building_floors`: (static integer) The number of floors in the building.  This value must be greater than 1. This value has no default and must be specified in the model.\n",
    "\n",
    "- `building_floor_depth[ft]`: (static real) The ceiling-to-floor depth in the building (i.e., floor thickness). The default is `2.0 ft`.\n",
    "\n",
    "- `building_floor_height[ft]`: (static real) The floor-to-ceiling height in the building (i.e., unit height). The default is `8.0 ft`.\n",
    "\n",
    "- `building_heat_leakage[pu]`: (static real) The fraction of zone heat gains that leak into the mass. The default is `0.1 pu`.\n",
    "\n",
    "- `building_occupancy_factor[pu]`: (static real) The fraction of building units that are occupied. The default is `0.9 pu`.\n",
    "\n",
    "- `building_outdoor_temperature[degF]`: (input real) The temperature outside the building (driven by the weather model). The default is `59.0 degF`.\n",
    "\n",
    "- `building_overdesign_factor[pu]`: (static real) The amount by which the building systems are overdesigned. The default of `0.5 pu`.\n",
    "\n",
    "- `building_units`: (static integer) The number of units in the building. This value has no default and must be specified in the model.\n"
   ]
  },
  {
   "cell_type": "markdown",
   "metadata": {},
   "source": [
    "## Core Parameters\n",
    "\n",
    "- `core_configuration`: (static set) Indicates the configuration of the core.  The default is `NONE`. Options include:\n",
    "  - `NONE`: The core is exterior, single-loaded, and unconditioned.\n",
    "  - `INDOOR`: The core space is indoor. \n",
    "  - `DOUBLE`: The core is double-loaded. This parameter implies `INDOOR`.\n",
    "  - `CONDITIONED`: The core space is conditioned. This parameter implies `INDOOR`.\n",
    "\n",
    "- `core_cooling_setpoint[degF]`: (input real) The cooling setpoint in the core space. The value is only meaningful if the core is an indoor conditioned space. The default is `unit_cooling_setpoint+5.0`.\n",
    "\n",
    "- `core_elevators`: (static integer) The number of elevators operating in the core space. The default is `0`.\n",
    "\n",
    "- `core_heating_setpoint[degF]`: (input real) The heating setpoint in the core space. The value is only meaningful if the core is an indoor conditioned space. The default is `unit_heating_setpoint-5.0`.\n",
    "\n",
    "- `core_laundry_units`: (static integer) The number of community/shared washer/dryers pairs installed in the core space.\n",
    "\n",
    "- `core_mode`: (static enumeration) The operating mode of the core zone.  The default `OFF`. Valid values are:\n",
    "  - `OFF`: The system is off.\n",
    "  - `VENTILATING`: The system is ventilating.\n",
    "  - `HEATING`: The system is heating.\n",
    "  - `COOLING`: The system is cooling.\n",
    "  \n",
    "- `core_width[ft]`: (static real) The width of the core space. The default is `5 ft` for single-loaded corridors, and `6 ft` for double-loaded corridors.\n"
   ]
  },
  {
   "cell_type": "markdown",
   "metadata": {},
   "source": [
    "## Parking Parameters\n",
    "\n",
    "- `parking_capacity_chargers[kW]`: (static real) The installed vehicle charger capacity.  The default is `0.0 kW`.\n",
    "\n",
    "- `parking_capacity_elevators[kW]`: (static real) The installed elevator capacity. The default is `0.0 kW`.\n",
    "\n",
    "- `parking_capacity_lights[kW]`: (static real) The installed lighting capacity. The default is `0.0 kW`.\n",
    "\n",
    "- `parking_capacity_ventilation[kW]`: (static real) The installed ventilation capacity. The default is `0.0 kW`.\n",
    "\n",
    "- `parking_chargers_active`: (input integer) The number of EV chargers that are in use. The default is `0`.\n",
    "\n",
    "- `parking_chargers_installed`: (static integer) The number of EV chargers installed. The default is `0`.\n",
    "\n",
    "- `parking_configuration`: (static enumeration) The parking configuration. The default is `OUTDOOR`. The following options are recognized:\n",
    "    - `OUTDOOR`: The parking is exterior (lighting is on only at night).\n",
    "    - `INDOOR`: The parking in indoor (lighting and ventilation are always on).\n",
    "\n",
    "\n",
    "- `parking_demand_chargers[pu]`: (output real) The parking EV charger demand as a fraction of installed capacity. The default is `0.0`.\n",
    "\n",
    "- `parking_demand_elevators[pu]`: (output real) The parking elevator demand as a fraction of installed capacity. The default is `0.0`.\n",
    "\n",
    "- `parking_demand_lights[pu]`: (output real) The parking lighting demand as a fraction of installed capacity. The default is `0.0`.\n",
    "\n",
    "- `parking_demand_ventilation[pu]`: (output real) The parking ventilation demand as a fraction of installed capacity. The default is `0.0`.\n",
    "\n",
    "- `parking_size`: (static integer) The total number of parking spots installed. \n"
   ]
  },
  {
   "cell_type": "markdown",
   "metadata": {},
   "source": [
    "## Power Parameters\n",
    "\n",
    "- `power_core[kW]`: (output real) The power delivered to the core spaces in the building (including washing and drying).\n",
    "\n",
    "- `power_parking[kW]`: (output real) The power delivered to the parking areas.\n",
    "\n",
    "- `power_system[kW]`: (output real) The power delivered to the building systems (i.e., HVAC).\n",
    "\n",
    "- `power_total[kW]`: (output real) The total power delivered to the building, i.e., core, parking, system, and units.\n",
    "\n",
    "- `power_units[kW]`: (output real) The total power delivered to the apartment units (both occupied and vacant).\n",
    "    "
   ]
  },
  {
   "cell_type": "markdown",
   "metadata": {},
   "source": [
    "## System Parameters\n",
    "\n",
    "- `system_cooling_air_temperature[degF]`: (static real) The system cooling supply air temperature. This is only meaningful when `system_type_central&COOL` and `system_type_ventilation==CENTRAL`. The default value is `50 degF`.\n",
    "\n",
    "- `system_cooling_capacity[kBtu/h]`: (static real) The system cooling capacity. This is only meaningful when `system_type_central&COOL`. The default value is computed based on the heating and cooling design conditions (see below).\n",
    "\n",
    "- `system_cooling_efficiency[kBtu/kWh]`: (static real) The system cooling efficiency. This is only meaning when `system_type_central&COOL`. The default value is \"15.0 kBtu/kWh\".\n",
    "\n",
    "- `system_heating_air_temperature[degF]`: (static real) The system heating supply air temperature. This is only meaning when `system_type_central&HEAT` and `system_type_ventliation==CENTRAL`. The default is `110 degF`.\n",
    "\n",
    "- `system_heating_capacity[kBtu/h]`: (static real) The system heating capacity. This is only meaningful when `system_type_central&HEAT`. The default value is computed based on the heating and cooling design conditions (see below).\n",
    "\n",
    "- `system_heating_efficiency[kBtu/kWh]`: (static real) The system heating efficiency. This is only meaning when `system_type_central&HEAT`. The default value is `10 kBtu/kWh`.\n",
    "\n",
    "- `system_mode`: (static enumeration) The operating mode of the central system.  The default `OFF`. Valid values are:\n",
    "  - `OFF`: The system is off.\n",
    "  - `VENTILATING`: The system is ventilating.\n",
    "  - `HEATING`: The system is heating.\n",
    "  - `COOLING`: The system is cooling.\n",
    "\n",
    "- `system_type_central`: (static set) The central system type, if any. The default is `NONE`. Valid options are:\n",
    "  - `NONE`: No central system is present.\n",
    "  - `HEAT`: Only central heating is present.\n",
    "  - `COOL`: Only central cooling is present.\n",
    "  - `BOTH`: Both central heating and cooling are present. This is equivalent to `HEAT|COOL`.\n",
    "\n",
    "- `system_type_economizer`: (static enumeration) The type of economizer used by the central cooling system, if any. The default is `NONE`. Valid options are:\n",
    "  - `NONE`: No economizer present\n",
    "  - `DRYBULB`: Economizer uses drybulb temperature sensor\n",
    "  - `WEBBULB`: Economizer uses wetbulb temperature sensor\n",
    "  - `DIFFERENTIAL`: Economizer uses differential of two wetbulb sensors.\n",
    "\n",
    "- `system_type_ventilation`: (static enumeration) The type of central ventilation system, if any. The default is `NONE`. Valid values are:\n",
    "  - `NONE`: No artificial ventilation is present\n",
    "  - `LOCAL`: Local-only ventilation is present\n",
    "  - `CENTRAL`: Central ventilation is present"
   ]
  },
  {
   "cell_type": "markdown",
   "metadata": {},
   "source": [
    "## Unit Parameters\n",
    "\n",
    "- `unit_appliance_types`: (static set) The types of appliances installed in the units. The default `REFRIGERATOR`. Valid values are:\n",
    "  - `COOKING`: Units have cooking appliances.\n",
    "  - `DISHWASHER`: Units have dishwashers.\n",
    "  - `DRYER`: Units have dryers.\n",
    "  - `REFRIGERATOR`: Units have refrigerators.\n",
    "  - `NONE`: Units have no appliances.\n",
    "  - `WASHER`: Units have washers.\n",
    "\n",
    "- `unit_capacity_cooking[kW]`: (static double) The maximum power of the cooking appliances in units. The default is `3.0 kW`.\n",
    "\n",
    "- `unit_capacity_dishwasher[kW]`: (static double) The maximum power of the dishwashing appliances in units. The default is `1.8 kW`.\n",
    "\n",
    "- `unit_capacity_dryer[kW]`: (static double) The maximum power demand of dryers in units. The default is `3.0 kW`.\n",
    "\n",
    "- `unit_capacity_lights[kW]`: (static double) The maximum lighting demand in units. The default is based on floor area, i.e., `0.6 W/sf`.\n",
    "\n",
    "- `unit_capacity_plugs[kW]`: (static double) The maximum non-lighting plug load demand in units. The default is based on floor area, i.e., `0.5 W/sf`.\n",
    "\n",
    "- `unit_capacity_refrigerator[kW]`: (static double) The maximum refrigeration demand in units. The default is `200 W`.\n",
    "\n",
    "- `unit_capacity_washer[kW]`: (static double) The maximum washer power demand in units. The default is `1.0 kW`.\n",
    "\n",
    "- `unit_cooling_capacity[kBtu/h]`: (static double) The cooling capacity of the unit systems, if any. The default is computed based on design conditions (see below).\n",
    "\n",
    "- `unit_cooling_efficiency[kBtu/kW]`: (static double) The unit cooling system efficiency. The default is `15 kBtu/kWh`.\n",
    "\n",
    "- `unit_cooling_setpoint[degF]`: (input double) The unit cooling system temperature setpoint. The default is `78 degF`.\n",
    "\n",
    "- `unit_demand_cooking[pu]`: (dynamic double) The fraction of the cooking power capacity that is active. The default is set by the residential cooking schedule.\n",
    "\n",
    "- `unit_demand_dishwasher[pu]`: (dynamic double) The fraction of the dishwasher power capacity that is active. The default is set by the residential dishwasher schedule.\n",
    "\n",
    "- `unit_demand_dryer[pu]`: (dynamic double) The fraction of the dryer power capacity that is active. The default is set by the residential dryer schedule.\n",
    "\n",
    "- `unit_demand_lights[pu]`: (dynamic double) The fraction of the lighting power capacity that is active. The default is set by the residential lighting schedule.\n",
    "\n",
    "- `unit_demand_plugs[pu]`: (dynamic double) The fraction of the plugs power capacity that is active. The default is set by the residential plugs schedule.\n",
    "\n",
    "- `unit_demand_refrigerator[pu]`: (dynamic double) The fraction of the refrigerator power capacity that is active. The default is set by the residential refrigerator schedule.\n",
    "\n",
    "- `unit_demand_washer[pu]`: (dynamic double) The fraction of the washer power capacity that is active. The default is set by the residential washer schedule.\n",
    "\n",
    "- `unit_depth[ft]`: (static double) The unit depth is the average distance from the core wall to the perimeter meter. The default is `40 ft`\n",
    "\n",
    "- `unit_door_area[sf]`: (static double) The area of a unit door. The default is `20 sf`.\n",
    "\n",
    "- `unit_heating_capacity[kBtu/h]`: (static double) The heating capacity of the unit systems, if any. The default is computed based on design conditions (see below).\n",
    "\n",
    "- `unit_heating_efficiency[kBtu/kWh]`: (static double) The unit heating system efficiency. The default is `10 kBtu/kWh`. Note that the effectiveness of a heating decline with lower outdoor temperature, but the heating efficiency is never below `3.4 kBtu/kWh`.\n",
    "\n",
    "- `unit_heating_setpoint[degF]`: (input double)  The unit heating system temperature setpoint. The default is `70 degF`.\n",
    "\n",
    "- `unit_mode`: (dynamic enumeration) The local system mode. The default is `OFF`. Valid values are:\n",
    "  - `OFF`: The system is off.\n",
    "  - `VENTILATING`: The system is ventilating.\n",
    "  - `HEATING`: The system is heating.\n",
    "  - `COOLING`: The system is cooling.\n",
    "\n",
    "- `unit_system_type`: (static set) The type of unit heating/cooling systems present. The default is `NONE`. Valid options are:\n",
    "  - `NONE`: No local system is present.\n",
    "  - `HEAT`: Only local heating is present.\n",
    "  - `COOL`: Only local cooling is present.\n",
    "  - `BOTH`: Both local heating and cooling are present. This is equivalent to `HEAT|COOL` and implies the unit is a heat-pump.\n",
    "\n",
    "- `unit_width[ft]`: (static double) The unit width is the distance from one unit interior wall to the next. The default is `25` ft.\n",
    "\n",
    "- `unit_window_area[sf]`: (static double) The total area of a unit's window. The default is 50% of the exterior wall area."
   ]
  },
  {
   "cell_type": "markdown",
   "metadata": {},
   "source": [
    "## Vacant Unit Parameters\n",
    "\n",
    "- `vacant_cooling_setpoint[degF]`: The vacant unit cooling setpoint. The default is `120 degF`.\n",
    "\n",
    "- `vacant_heating_setpoint[degF]`: The vacant unit heating setpoint. The default is `50 degF`.\n",
    "\n",
    "- `vacant_mode`: The vacant unit system mode. The default `OFF`. Valid values are:\n",
    "  - `OFF`: The system is off.\n",
    "  - `VENTILATING`: The system is ventilating.\n",
    "  - `HEATING`: The system is heating.\n",
    "  - `COOLING`: The system is cooling.\n"
   ]
  },
  {
   "cell_type": "markdown",
   "metadata": {},
   "source": [
    "## Heating/Cooling Design Conditions\n",
    "\n",
    "The following parameters have defaults that are computed automatically if values are not provided in the model. The values for these calculations can be obtained from the \"Thermal Model\" section below."
   ]
  },
  {
   "cell_type": "markdown",
   "metadata": {},
   "source": [
    "### Unit Capacity\n",
    "\n",
    "The unit heating/cooling capacity of local systems is based on the maximum heat/cooling gain/loss possible, including an over-design margin of 50%.  \n",
    "\n",
    "The maximum local unit heating capacity is\n",
    "\n",
    "$$\n",
    "    \\overline{Q}_{H_A} = 1.5 [ U_{OA} ( \\underline{T}_O - T_{H_A} ) + U_{AU} ( T_{H_U} - T_{H_A} ) + U_{AC} ( T_{H_C} - T_{H_A} ) + \\underline{Q}_{V_A}]\n",
    "$$\n",
    "\n",
    "where $\\underline{T}_O$ is the minimum outdoor air temperature observed, $T_{H_z}$ is the heating setpoint of the zone $z$, and $\\underline{Q}_{V_A}$ is the maximum occupied zone ventilation loss (a negative number).\n",
    "\n",
    "The maximum local unit cooling capacity is \n",
    "\n",
    "$$\n",
    "    \\overline{Q}_{C_A} = 1.5 [ U_{OA} ( \\overline{T}_O - T_{C_A} ) + U_{AU} ( T_{C_U} - T_{C_A} ) + U_{AC} ( T_{C_C} - T_{C_A} ) + \\overline{Q}_{S_A} + \\overline{Q}_{V_A} + \\overline{Q}_{E_A} ]\n",
    "$$\n",
    "\n",
    "where $\\overline{T}_O$ is the maximum outdoor air temperature observed, $T_{C_z}$ is the cooling setpoint of the zone $z$, and $\\overline{Q}_{S_A}$, $\\overline{Q}_{V_A}$, and $\\overline{Q}_{E_A}$ are the maximum occupied zone solar, ventilation, and equipment gains, respectively.\n",
    "\n",
    "If the unit is a heat-pump (i.e., `unit_system_type==BOTH` then the unit capacity is the larger of the two values."
   ]
  },
  {
   "cell_type": "markdown",
   "metadata": {},
   "source": [
    "### System Capacity\n",
    "\n",
    "The system capacity is computed based on the maximum heating/cooling gain/loss possible, including an over-design margin of 50%, and not including the local unit capacity, if any.\n",
    "\n",
    "The maximum system heating capacity is\n",
    "\n",
    "$$\n",
    "    N M ( \\overline{Q}_{H^*_A} + \\overline{Q}_{H_C} )\n",
    "$$\n",
    "\n",
    "where $\\overline{Q}_{H^*_A}$ is the unit heating capacity not met by local unit systems, and \n",
    "\n",
    "$$\n",
    "    \\overline{Q}_{H_C} = U_{OC} ( \\underline{T}_O - T_{H_C} ) + U_{UC} ( T_{H_U} - T_{H_C} ) + \\underline{Q}_{V_C}\n",
    "$$\n",
    "\n",
    "with $\\underline{Q}_{V_C}$ as the maximum core zone ventilation loss (a negative value).\n",
    "\n",
    "The maximum system cooling capacity is\n",
    "\n",
    "$$\n",
    "    N M ( \\overline{Q}_{C^*_A} + \\overline{Q}_{C_C} )\n",
    "$$\n",
    "\n",
    "where\n",
    "\n",
    "$$\n",
    "    \\overline{Q}_{C_C} = U_{OC} ( \\overline{T}_O - T_{C_C} ) + U_{UC} ( T_{C_U} - T_{C_C} ) + \\overline{Q}_{S_C} + \\overline{Q}_{V_S} + \\overline{Q}_{E_C}\n",
    "$$\n",
    "\n",
    "with $\\overline{Q}_{S_C}$, $\\overline{Q}_{V_S}$, $\\overline{Q}_{E_C}$ as the maximum core zone solar, ventilation, and equipment heat gains, respectively."
   ]
  },
  {
   "cell_type": "markdown",
   "metadata": {},
   "source": [
    "# Thermal Model\n",
    "\n",
    "The thermal model is a based on a four-zone ETP model, where the following zone variables are defined:\n",
    "\n",
    "Table 1: Zone variables\n",
    "\n",
    "| Zone Name            | Temperature | Mass   | Heat   |\n",
    "| :------------------- | :---------: | :----: | :----: |\n",
    "| Occupied apartment   | $T_A$       | $C_A$  | $Q_A$  |\n",
    "| Unoccupied apartment | $T_U$       | $C_U$  | $Q_U$  |\n",
    "| Building core        | $T_C$       | $C_C$  | $Q_C$  |\n",
    "| Building mass        | $T_M$       | $C_M$  |   -    |\n",
    "| Outdoor air          | $T_O$       |   -    |   -    |"
   ]
  },
  {
   "cell_type": "markdown",
   "metadata": {},
   "source": [
    "The model assumes that every zone is connected to every other zone with the following zone-zone conductance parameters defined\n",
    "\n",
    "Table 2: Zone-zone conductance\n",
    "\n",
    "| Conductance | Connected zones                       |\n",
    "| ----------- | ------------------------------------- |\n",
    "| $U_{OA}$    | Occupied apartment & outdoor air      |\n",
    "| $U_{OU}$    | Unoccupied apartment & outdoor air    |\n",
    "| $U_{OC}$    | Building core & outdoor air           |\n",
    "| $U_{OM}$    | Building mass & outdoor air           |\n",
    "| $U_{AU}$    | Occupied & unoccupied apartments      |\n",
    "| $U_{AC}$    | Occupied apartments & building core   |\n",
    "| $U_{AM}$    | Occupied apartments & building mass   |\n",
    "| $U_{UC}$    | Uncccupied apartments & building core |\n",
    "| $U_{UM}$    | Unoccupied apartments & building mass |\n",
    "| $U_{CM}$    | Building core & building mass         |"
   ]
  },
  {
   "cell_type": "markdown",
   "metadata": {},
   "source": [
    "The thermal dynamics are defined by Equation (1)\n",
    "\n",
    "$$\n",
    "    \\begin{bmatrix} \n",
    "        \\dot T_A \n",
    "    \\\\ \n",
    "        \\dot T_U \n",
    "    \\\\\n",
    "        \\dot T_C\n",
    "    \\\\\n",
    "        \\dot T_M\n",
    "    \\end{bmatrix}\n",
    "    =\n",
    "    \\begin{bmatrix}\n",
    "        -\\frac{U_{OA}+U_{AU}+U_{AC}+U_{AM}}{C_A} & \\frac{U_{AU}}{C_A} & \\frac{U_{AC}}{C_A} & \\frac{U_{AM}}{C_A}\n",
    "    \\\\\n",
    "        \\frac{U_{AU}}{C_U} & -\\frac{U_{OU}+U_{AU}+U_{UC}+U_{UM}}{C_U} & \\frac{U_{UC}}{C_U} & \\frac{U_{UM}}{C_U}\n",
    "    \\\\\n",
    "        \\frac{U_{AC}}{C_C} & \\frac{U_{UC}}{C_C} & -\\frac{U_{OC}+U_{AC}+U_{UC}+U_{CM}}{C_C} & \\frac{U_{CM}}{C_C}\n",
    "    \\\\\n",
    "        \\frac{U_{AM}}{C_M} & \\frac{U_{UM}}{C_M} & \\frac{U_{CM}}{C_M} & -\\frac{U_{OM}+U_{AM}+U_{UM}+U_{CM}}{C_M}\n",
    "    \\end{bmatrix}\n",
    "    \\begin{bmatrix}\n",
    "        T_A\n",
    "    \\\\\n",
    "        T_U\n",
    "    \\\\\n",
    "        T_C\n",
    "    \\\\\n",
    "        T_M\n",
    "    \\end{bmatrix}\n",
    "    +\n",
    "    \\begin{bmatrix}\n",
    "        \\frac{1}{C_A} & 0 & 0 & \\frac{U_{OA}}{C_A}\n",
    "    \\\\\n",
    "        0 & \\frac{1}{C_U} & 0 & \\frac{U_{OU}}{C_U}\n",
    "    \\\\\n",
    "        0 & 0 & \\frac{1}{C_C} & \\frac{U_{OC}}{C_C}\n",
    "    \\\\\n",
    "        0 & 0 & 0 & \\frac{U_{OM}}{C_M}\n",
    "    \\end{bmatrix}\n",
    "    \\begin{bmatrix}\n",
    "        Q_A\n",
    "    \\\\\n",
    "        Q_U\n",
    "    \\\\\n",
    "        Q_C\n",
    "    \\\\\n",
    "        T_O\n",
    "    \\end{bmatrix}\n",
    "    \\qquad (1)\n",
    "$$\n",
    "where the heat gains are\n",
    "- $Q_A = Q_{AH} + Q_{AS} + Q_{AV} + Q_{AE}$,\n",
    "- $Q_U = Q_{UH} + Q_{US}$\n",
    "- $Q_C = Q_{CH} + Q_{CS} + Q_{CV}$"
   ]
  },
  {
   "cell_type": "markdown",
   "metadata": {},
   "source": [
    "The heat gains for each zones are defined as follows\n",
    "\n",
    "Table 3: Occupied apartment heat gains\n",
    "\n",
    "| Heat source      | Parameter |\n",
    "| ---------------- | --------- |\n",
    "| HVAC             | $Q_{AH}$  |\n",
    "| Solar gain       | $Q_{AS}$  |\n",
    "| Ventilation gain | $Q_{AV}$  |\n",
    "| End-use gains    | $Q_{AE}$  |\n",
    "\n",
    "Table 4: Unoccupied apartment heat gains \n",
    "\n",
    "| Heat source      | Parameter |\n",
    "| ---------------- | --------- |\n",
    "| HVAC             | $Q_{UH}$  |\n",
    "| Solar gain       | $Q_{US}$  |\n",
    "\n",
    "Table 5: Building core heat gains\n",
    "\n",
    "| Heat source      | Parameter |\n",
    "| ---------------- | --------- |\n",
    "| HVAC             | $Q_{CH}$  |\n",
    "| Solar gain       | $Q_{CS}$  |\n",
    "| Ventilation gain | $Q_{CV}$  |\n",
    "\n",
    "\n",
    "The following end-uses contribute to heat gain in building zones and are driven by schedules\n",
    "\n",
    "Table 6: Zone end-use schedule source\n",
    "\n",
    "| End-use     | $Q_{AE}$      | $Q_{CE}$     |\n",
    "| ----------- | ------------- | ------------ |\n",
    "| Lights      | `lighting`    | `hallway`    |\n",
    "| Plugs       | `plugs`       |      -       |\n",
    "| Cooking     | `cooking`     |      -       |\n",
    "| Dishwashing | `dishwashing` |      -       |\n",
    "| Washing     | `washing`     |      -       |\n",
    "| Drying      | `drying`      |      -       |\n",
    "| Hotwater    | `hotwater`    |      -       |\n"
   ]
  },
  {
   "cell_type": "markdown",
   "metadata": {},
   "source": [
    "Equation (1) is represented canonically as\n",
    "\n",
    "$$\n",
    "    \\boxed { \\dot {\\textbf T} = \\textbf A \\textbf T + \\textbf B_1 \\textbf q + \\textbf B_2 \\textbf u } \\qquad (2)\n",
    "$$\n",
    "\n",
    "where $\\textbf{T} = \\begin{bmatrix} T_A & T_U & T_C & T_M \\end{bmatrix}^\\mathrm{T}$, $\\textbf q$ are the ambient heat gains/losses, and $\\textbf u$ is the controlled heat gains/losses, with\n",
    "\n",
    "$$\n",
    "    \\textbf B_1 = \\begin{bmatrix}\n",
    "        {U_{OA}} \\over {C_A} &   a \\over {C_A} &               0 &               0   \n",
    "    \\\\\n",
    "        {U_{OU}} \\over {C_U} &               0 &   a \\over {C_U} &               0   \n",
    "    \\\\\n",
    "        {U_{OC}} \\over {C_C} &               0 &               0 &   a \\over {C_C} \n",
    "    \\\\\n",
    "        {U_{OM}} \\over {C_M} & {1-a}\\over{C_M} & {1-a}\\over{C_M} & {1-a}\\over{C_M}   \n",
    "    \\end{bmatrix}\n",
    "    \\qquad \\textrm{and} \\qquad\n",
    "    \\textbf B_2 = \\begin{bmatrix}\n",
    "          a \\over {C_A} &               0 &               0 &             0\n",
    "    \\\\\n",
    "                      0 &   a \\over {C_U} &               0 &             0\n",
    "    \\\\\n",
    "                      0 &               0 &   a \\over {C_C} &             0\n",
    "    \\\\\n",
    "        {1-a}\\over{C_M} & {1-a}\\over{C_M} & {1-a}\\over{C_M} & 1 \\over {C_M} \n",
    "    \\end{bmatrix}\n",
    "$$\n",
    "\n",
    "and\n",
    "\n",
    "$$\n",
    "    \\textbf q = \\begin{bmatrix} T_O \\\\ Q_{AS} + Q_{AV} + Q_{AE} \\\\ Q_{US} \\\\ Q_{CS} + Q_{CV} + Q_{CE} \\end{bmatrix}.\n",
    "$$\n",
    "\n",
    "The value of $\\textbf{u}$ is determined by the HVAC controls."
   ]
  },
  {
   "cell_type": "markdown",
   "metadata": {},
   "source": [
    "## HVAC Controls\n",
    "\n",
    "The following thermostat setpoints are use to control HVAC\n",
    "\n",
    "| Zone       | Heating  | Cooling  |\n",
    "| ---------- | -------- | -------- |\n",
    "| Occupied   | $T_{AH}$ | $T_{AC}$ |\n",
    "| Unccupied  | $T_{UH}$ | $T_{UC}$ |\n",
    "| Core       | $T_{CH}$ | $T_{CC}$ |"
   ]
  },
  {
   "cell_type": "markdown",
   "metadata": {},
   "source": [
    "### System modes\n",
    "\n",
    "The following types of systems can be modeled.\n",
    "\n",
    "| Local | Central | Ventilation | Economizer | Description\n",
    "| ----- | ------- | ----------- | ---------- |-----------------------------------\n",
    "| Heat  | None    | None        | None       | Only local heating is available\n",
    "| Cool  | None    | None        | None       | Only local cooling is available\n",
    "| Both  | None    | None        | None       | Only local heating and cooling is available\n",
    "| None  | Heat    | None        | None       | Only central heating is available using hotwater/steam pipes\n",
    "| None  | Cool    | None        | None       | Only central cooling is available using chilled water pipes\n",
    "| None  | Both    | None        | None       | Only central heating and cooling is available using four pipes\n",
    "| Cool  | Heat    | None        | None       | Local cooling and central heating using hotwater/steam pipes\n",
    "| Heat  | Cool    | None        | None       | Local heating and central cooling using chilled water pipes\n",
    "| Heat  | None    | Central     | Optional   | Central ventilation with terminal heating\n",
    "| Cool  | None    | Central     | Optional   | Central ventilation with terminal cooling\n",
    "| Both  | None    | Central     | Optional   | Central ventilation with terminal heating and cooling\n",
    "| None  | Both    | Central     | Optional   | Forced air central heating and cooling\n",
    "| Heat  | Both    | Central     | Optional   | Forced air central heating and cooling with terminal heating\n",
    "| Cool  | Both    | Central     | Optional   | Forced air central heating and cooling with terminal cooling\n",
    "\n",
    "When a central system is present and only one local mode is allowed, the central will operate in the unavailable local mode if any zone requires it. The remaining zones will use the local mode to meet local conditioning requirement, if any.  If the ventilation is central, then the local mode will use the central system mode supply air temperature as the basis for the local mode (e.g., terminal reheat).\n",
    "\n",
    "If an economizer is present and the system is operating in cooling mode, then the system cooling load $Q_C$ is multiplied by the factor\n",
    "\n",
    "$$\n",
    "    E = \\left\\{ \\begin{matrix} \n",
    "        1 &:& T_R < T_O\n",
    "    \\\\\n",
    "        {{T_O-T_D} \\over {T_R-T_D}} &:& T_D < T_R < T_O\n",
    "    \\\\\n",
    "        0 &:& T_R < T_D\n",
    "    \\end{matrix} \\right.\n",
    "$$\n",
    "where\n",
    "- $T_D$ is the cooling air supply temperature (e.g., 50 degF)\n",
    "- $T_R$ is the return air temperature, which may be computed from the floor-area-weighted indoor air temperatures of the conditioned spaced, e.g., $T_R = {{A_AT_A+A_CT_C}\\over{A_A+A_C}}$, with $A_A$ and $A_C$ being the total occupied apartment and core space floor areas."
   ]
  },
  {
   "cell_type": "markdown",
   "metadata": {},
   "source": [
    "# Heating/Cooling Solution Method\n",
    "\n",
    "The model assumes that the setpoints are maintained in the controlled zone, and computes the heating/cooling load required by setting Equation (2) equal to zero.  However, if the heating/cooling load exceeds the capacity of the central plant or the HVAC units, or the heating/cooling is curtailed, then the heat delivery is constrained, and the Equation (2) will provide the temperature changes, if any, for each zone."
   ]
  },
  {
   "cell_type": "markdown",
   "metadata": {},
   "source": [
    "## Step 1 - Determine the system mode\n",
    "\n",
    "Determine the zone balance temperatures by solving Equation (2) for $\\textbf{T}$ given $\\dot {\\textbf T} = 0$ and $\\textbf{u} = 0$ \n",
    "\n",
    "$$\n",
    "    \\textbf{T}^o = - \\textbf{A}^{-1} \\textbf{B}_1 \\textbf{q}\n",
    "$$\n",
    "\n",
    "For each zone $n \\in \\{A,C,H\\}$, the operating mode is\n",
    "\n",
    "$$\n",
    "    m_n = \\left\\{ \\begin{matrix}\n",
    "        +1 &:& T_n \\lt T_n^o\n",
    "    \\\\\n",
    "        -1 &:& T_n \\ge T_n^o\n",
    "    \\end{matrix} \\right.\n",
    "$$"
   ]
  },
  {
   "cell_type": "markdown",
   "metadata": {},
   "source": [
    "## Step 2 - Compute the equilibrium load\n",
    "\n",
    "Solve Equation (2) for $\\textbf{u}$ at the temperature setpoint given $\\dot {\\textbf T}=0$, i.e.,\n",
    "\n",
    "$$\n",
    "    {\\textbf u} = -{\\textbf B}_2^{-1} ( {\\textbf A} {\\textbf T}^* + {\\textbf B}_1 \\textbf{q} )\n",
    "$$\n",
    "\n",
    "where the setpoint is\n",
    "\n",
    "$$\n",
    "    {\\textbf T}^* = T_{set} - m \\begin{bmatrix}  0 \\\\ T_{unoccupied} \\\\ T_{core} \\\\ 0 \\end{bmatrix}\n",
    "$$\n",
    "\n",
    "where \n",
    "\n",
    "- $T_{set}$ is the general setpoint temperature for the building,\n",
    "- $m$ is the building operating mode, i.e., `-1` for cooling and `+1` for heating,\n",
    "- $T_{unoccupied}$ is the unoccupied temperature setpoint offset, e.g., `10 degF`, and\n",
    "- $T_{core}$ is the core temperature setpoint offset, e.g., `5 degF`."
   ]
  },
  {
   "cell_type": "markdown",
   "metadata": {},
   "source": [
    "## Step 3 - Constrain the heat gain/loss\n",
    "\n",
    "The value of $\\textbf u$ obtain from Equation (2) may exceed the limits of the HVAC system, in which can they must be constrained such that element-wise\n",
    "\n",
    "$$\n",
    "    \\textbf u^* = \\textbf u \\qquad \\mathrm{s.t} \\qquad \\underline {\\textbf u} \\le {\\textbf u} \\le \\overline {\\textbf u}\n",
    "$$\n",
    "\n",
    "where $\\underline {\\textbf u}$ is the maximum cooling capacity and $\\overline {\\textbf u}$ is the maximum heating capacity of the HVAC system.  "
   ]
  },
  {
   "cell_type": "markdown",
   "metadata": {},
   "source": [
    "## Step 4 - Compute the equilibrium temperature\n",
    "\n",
    "Solve for the equilibrium temperature using Equation (2) given the control input $\\textbf{u}$\n",
    "\n",
    "$$\n",
    "    \\tilde{\\textbf T} = -{\\textbf A}^{-1}({\\textbf B}_1 {\\textbf q} + {\\textbf B}_2 {\\textbf u^*})\n",
    "$$"
   ]
  },
  {
   "cell_type": "markdown",
   "metadata": {},
   "source": [
    "## Step 5 - Compute the zone temperature changes\n",
    "\n",
    "Given the constrained values $\\textbf u^*$, we update the zone temperatures for the elapsed time $t$ using the solution Equation (2):\n",
    "\n",
    "$$\n",
    "    {\\textbf T}(t) = \\tilde{\\textbf T} + e^{\\textbf A t} {\\textbf T}(0) + {\\textbf A}^{-1} ( e^{\\textbf A t} - {\\textbf I} ) ( {\\textbf B}_1 {\\textbf q} + {\\textbf B}_2 {\\textbf u}^* )\n",
    "$$"
   ]
  },
  {
   "cell_type": "markdown",
   "metadata": {},
   "source": [
    "# Electric Power Demand\n",
    "\n",
    "The power consumption is the sum of all the end-use loads and the HVAC load given the efficiency of the HVAC systems:\n",
    "\n",
    "$$\n",
    "    P = Q_{AE} + Q_{CE} + { E\\over \\eta_M } ||u||_1^*\n",
    "$$\n",
    "\n",
    "where $\\eta_M$ is the efficiency of the HVAC system in the mode $M$."
   ]
  },
  {
   "cell_type": "markdown",
   "metadata": {},
   "source": [
    "# Thermal Parameters\n",
    "\n",
    "The following parameters are used to compute the thermal parameters for a building.\n",
    "\n",
    "Table 3: Building design parameters\n",
    "\n",
    "| Parameter                  | Description\n",
    "| -------------------------- | -------------------------------------------\n",
    "| $N$                        | Number of floors (integer)\n",
    "| $M$                        | Number of units per floor (integer)\n",
    "| $K_X$                      | Exterior core (no=0, yes=1)\n",
    "| $K_D$                      | Core loading (0=one side, 1=both sides)\n",
    "| $F$                        | Floor thickness (ft)\n",
    "| $X$                        | Unit width (ft)\n",
    "| $Y$                        | Unit depth (ft)\n",
    "| $Z$                        | Unit height (ft)\n",
    "| $W$                        | Interior core width (ft)\n",
    "| $A_W$                      | Unit window area (sf)\n",
    "| $A_D$                      | Unit door area (sf)\n",
    "| $C_{int}$                  | Unit interior mass (Btu/degF)\n",
    "| $S_{floor}$                | Floor specific mass (Btu/degF.sf)\n",
    "\n",
    "Table 4: Building thermal properties\n",
    "\n",
    "| Parameter    | Description\n",
    "| ------------ | ---------------------\n",
    "| $R_{ext}$    | Exterior wall R-value\n",
    "| $R_{int}$    | Interior wall R-value\n",
    "| $R_{window}$ | Window R-value\n",
    "| $R_{door}$   | Unit door R-value\n",
    "| $R_{mass}$   | Mass R-value (i.e., floor, ceiling, furnishings)\n",
    "\n",
    "Table 5: Derived building properties\n",
    "\n",
    "| Parameter | Calculation &nbsp;&nbsp;&nbsp;&nbsp;&nbsp;&nbsp;&nbsp;&nbsp;        | Description\n",
    "| --------- | ------------------- | -------------------------------------------\n",
    "| $A$       | $ X Y $             | Unit floor area (sf)\n",
    "| $A_U$     | $ Y Z $             | Interior unit-unit wall area (sf)\n",
    "| $A_O$     | $ X Z - A_W $       | Exterior unit wall area (sf)\n",
    "| $A_C$     | $ Z X - A_D $       | Interior unit-core wall area (sf)\n",
    "| $V$       | $ X Y Z $           | Unit volumne (cf)"
   ]
  },
  {
   "cell_type": "markdown",
   "metadata": {},
   "source": [
    "To compute the thermal parameters we identify the expore areas for each zone. The occupancy factor $\\beta$ is the ratio of occupied units to the total number of units.\n",
    "\n",
    "Table 6: Conductance calculations\n",
    "\n",
    "| Conductance | Parameter calculation &nbsp;&nbsp;&nbsp;&nbsp;&nbsp;&nbsp;&nbsp;&nbsp;&nbsp;&nbsp;&nbsp;&nbsp;&nbsp;&nbsp;&nbsp;&nbsp;&nbsp;&nbsp;&nbsp;&nbsp;&nbsp;&nbsp;&nbsp;&nbsp;&nbsp;&nbsp;&nbsp;&nbsp;&nbsp;&nbsp;&nbsp;&nbsp;&nbsp;&nbsp;&nbsp;&nbsp;&nbsp;&nbsp;&nbsp;&nbsp;&nbsp;&nbsp;&nbsp;&nbsp;&nbsp;&nbsp;&nbsp;&nbsp;&nbsp;&nbsp;&nbsp;&nbsp;&nbsp;\n",
    "| ----------- | ---------------------------------------\n",
    "| $U_{OA}$    | $ N M \\beta (K_X+1) \\left( { {A_O} \\over {R_{ext}} } + { {A_W} \\over {R_{window}} } \\right) $\n",
    "| $U_{OU}$    | $ N M (1-\\beta) (K_X+1) \\left( { {A_O} \\over {R_{ext}} } + { {A_W} \\over {R_{window}}} \\right) $\n",
    "| $U_{OC}$    | $ N (1-K_X) [ 2 W Z + (K_D+1) M X ] \\left( { {A_O} \\over {R_{ext}} } + { {A_W} \\over {R_{window}} } \\right) $\n",
    "| $U_{OM}$    | $ N {{F (MX+2(K_D+1)Y+2W)} \\over {R_{ext}}} $\n",
    "| $U_{AU}$    | $ N M \\beta (1-\\beta) {A_U} \\over {R_{int}} $\n",
    "| $U_{AC}$    | $ N M \\beta \\left( { {A_C} \\over {(1-K_X) R_{int} + K_X R_{ext}}} + { {A_D} \\over {R_{door}} } \\right) $\n",
    "| $U_{AM}$    | $ N M \\beta {A \\over {R_{mass}}} $\n",
    "| $U_{UC}$    | $ N M (1-\\beta) \\left( { {A_C} \\over {(1-K_X) R_{int} + K_X R_{ext}}} + { {A_D} \\over {R_{door}} } \\right) $\n",
    "| $U_{UM}$    | $ N M (1-\\beta) { A \\over {R_{mass}} } $\n",
    "| $U_{CM}$    | $ N W M { {K_D+1} \\over {R_{floor}}} $\n",
    "\n",
    "<font color=\"red\">TODO: add floor and roof UAs</font>\n",
    "\n",
    "Table 7: Capacitance calculation\n",
    "\n",
    "| Heat capacity | Parameter calculation &nbsp;&nbsp;&nbsp;&nbsp;&nbsp;&nbsp;&nbsp;&nbsp;&nbsp;&nbsp;&nbsp;&nbsp;&nbsp;&nbsp;&nbsp;&nbsp;&nbsp;&nbsp;&nbsp;&nbsp;&nbsp;\n",
    "| ------------- | -------------------------------------\n",
    "| $C_A$         | $ N M \\beta V S_{air} $\n",
    "| $C_U$         | $ N M (1-\\beta) V S_{air} $\n",
    "| $C_C$         | $ N M X W Z S_{air} $\n",
    "| $C_M$         | $ N M (S_{floor} ( A + K_D X W ) + C_{int} ) $"
   ]
  },
  {
   "cell_type": "markdown",
   "metadata": {},
   "source": [
    "# Example\n",
    "\n",
    "The following example illustrates this method.  The method requires a linear algebra library:"
   ]
  },
  {
   "cell_type": "code",
   "execution_count": 1,
   "metadata": {},
   "outputs": [],
   "source": [
    "from numpy import *"
   ]
  },
  {
   "cell_type": "markdown",
   "metadata": {},
   "source": [
    "The outdoor temperature is assumed to be 20F below the indoor setpoint."
   ]
  },
  {
   "cell_type": "code",
   "execution_count": 2,
   "metadata": {},
   "outputs": [],
   "source": [
    "# set outdoor temperature (delta from T_A and T_M)\n",
    "T_O = -20 # computed from weather data relative the apartment setpoint (e.g., T_A = 40 degF - T_O)"
   ]
  },
  {
   "cell_type": "markdown",
   "metadata": {},
   "source": [
    "The building has the following characteristics"
   ]
  },
  {
   "cell_type": "code",
   "execution_count": 3,
   "metadata": {},
   "outputs": [],
   "source": [
    "# Table 3: Building design parameters\n",
    "N = 5 # 10 floors\n",
    "M = 20 # 20 units per floor\n",
    "X = 24 # unit width (ft)\n",
    "Y = 40 # unit depth (ft)\n",
    "Z = 8 # unit height (ft)\n",
    "W = 6 # corridor width (ft)\n",
    "Kx = 0 # corridor is not exterior\n",
    "Kd = 1 # corridor is double-sided\n",
    "F = 2 # floor thickness (ft)\n",
    "omega = 0.5 # exterior window/wall ratio\n",
    "C_int = 2000 # occupied unit interior thermal capacitance (Btu/degF)\n",
    "rhoair = 0.0735\n",
    "Sint = 10.0\n",
    "Sfloor = 150.0"
   ]
  },
  {
   "cell_type": "code",
   "execution_count": 4,
   "metadata": {},
   "outputs": [],
   "source": [
    "# Table 4: Building thermal properties\n",
    "R_ext = 19\n",
    "R_int = 5\n",
    "R_window = 2\n",
    "R_door = 3\n",
    "R_mass = 1\n",
    "R_floor = 1\n",
    "R_roof = 60\n",
    "R_ground = 60"
   ]
  },
  {
   "cell_type": "code",
   "execution_count": 5,
   "metadata": {},
   "outputs": [],
   "source": [
    "# Table 5: Derived building properties\n",
    "A = X*Y # unit floor area (ft)\n",
    "Aw = omega*X*Z # unit window area (sf)\"\"\n",
    "Ad = 3*6.6 # unit door area (sf)\n",
    "Au = Y*Z # unit-unit wall area (ft)\n",
    "Ao = X*Z - Aw # unit-outdoor wall area (ft)\n",
    "Ac = X*Z - Ad # unit-core wall area (ft)\n",
    "V = X*Y*Z # unit volume (cf)\n",
    "Sair = 0.2402*rhoair\n",
    "Cint = Sint*A"
   ]
  },
  {
   "cell_type": "code",
   "execution_count": 6,
   "metadata": {},
   "outputs": [],
   "source": [
    "# Building occupancy\n",
    "beta = 0.95 # fraction of units that are occupied"
   ]
  },
  {
   "cell_type": "code",
   "execution_count": 7,
   "metadata": {},
   "outputs": [],
   "source": [
    "# set zone heat gains\n",
    "Q_AS = 500000 # solar gains to occupied apartments (computed from weather data)\n",
    "Q_AV = -10000 # ventilation gains to occupied apartments (computed from weather data)\n",
    "Q_AE = 10000 # electric load gains to occupied aparments (computed from equipment data)\n",
    "Q_US = (1-beta)*Q_AS # solar gains to unoccupied apartments (computed from weather data)\n",
    "Q_CS = 1000 # solar gains to core spaces (computed from weather data)\n",
    "Q_CV = -5000 # ventilation gains to core spaces (computed from weather data)"
   ]
  },
  {
   "cell_type": "code",
   "execution_count": 8,
   "metadata": {},
   "outputs": [],
   "source": [
    "# Building mode\n",
    "m = -sign(T_O) # -1 for cooling, +1 for heating"
   ]
  },
  {
   "cell_type": "markdown",
   "metadata": {},
   "source": [
    "The HVAC system capabilities are"
   ]
  },
  {
   "cell_type": "code",
   "execution_count": 9,
   "metadata": {},
   "outputs": [],
   "source": [
    "# set heat/cool constraints\n",
    "u_min = matrix([[-500000],[-200000],[-1000000],[0]])\n",
    "u_max = matrix([[500000],[200000],[1500000],[0]])\n",
    "# plant efficiency\n",
    "e_cool = 3.0\n",
    "e_heat = 4.0\n",
    "# temperature setpoints\n",
    "T_unoccupied = 10 # unoccupied zone temperature setpoint offset (degF)\n",
    "T_core = 5 # core zone temperature setpoint offset (degF)"
   ]
  },
  {
   "cell_type": "code",
   "execution_count": 10,
   "metadata": {},
   "outputs": [
    {
     "name": "stdout",
     "output_type": "stream",
     "text": [
      "N = 5 # number of floors\n",
      "M = 20 # number of units per floor\n",
      "X = 24 # unit width (ft)\n",
      "Y = 40 # unit depth (ft)\n",
      "Z = 8 # unit height (ft)\n",
      "W = 6 # core width (ft)\n",
      "A = 960 # unit floor area (sf)\n",
      "Aw = 96.0 # unit window area (sf)\n",
      "Ad = 19.799999999999997 # unit door area (sf)\n",
      "Au = 320 # unit wall area (sf)\n",
      "Ao = 96.0 # unit exterior wall area (sf)\n",
      "Ac = 172.2 # unit core wall area (sf)\n",
      "V = 7680 # unit volume (cf)\n",
      "beta = 0.95 # occupancy factor (pu)\n",
      "Kx = 0 # indoor core fraction (pu)\n",
      "Kd = 1 # indoor core double loading fraction (pu)\n",
      "F = 2 # floor thickness (ft)\n",
      "rhoair = 0.0735 # volumetric air density (lb/cf)\n",
      "Sair = 0.0176547 # air specific heat capacity (Btu/degF/cf)\n",
      "Sint = 10.0 # interior mass loading (Btu/degF/sf)\n",
      "Cint = 9600.0 # interior heat capacity (Btu/degF)\n",
      "Sfloor = 150.0 # density of floor mass (lb/cf)\n"
     ]
    }
   ],
   "source": [
    "def DUMP(_a,_b): print(f\"{_b} = {eval(_b)} # {_a}\")\n",
    "DUMP(\"number of floors\",\"N\")\n",
    "DUMP(\"number of units per floor\",\"M\")\n",
    "DUMP(\"unit width (ft)\",\"X\")\n",
    "DUMP(\"unit depth (ft)\",\"Y\")\n",
    "DUMP(\"unit height (ft)\",\"Z\")\n",
    "DUMP(\"core width (ft)\",\"W\")\n",
    "DUMP(\"unit floor area (sf)\",\"A\")\n",
    "DUMP(\"unit window area (sf)\",\"Aw\")\n",
    "DUMP(\"unit door area (sf)\",\"Ad\")\n",
    "DUMP(\"unit wall area (sf)\",\"Au\")\n",
    "DUMP(\"unit exterior wall area (sf)\",\"Ao\")\n",
    "DUMP(\"unit core wall area (sf)\",\"Ac\")\n",
    "DUMP(\"unit volume (cf)\",\"V\")\n",
    "DUMP(\"occupancy factor (pu)\",\"beta\")\n",
    "DUMP(\"indoor core fraction (pu)\",\"Kx\")\n",
    "DUMP(\"indoor core double loading fraction (pu)\",\"Kd\")\n",
    "DUMP(\"floor thickness (ft)\",\"F\")\n",
    "DUMP(\"volumetric air density (lb/cf)\",\"rhoair\")\n",
    "DUMP(\"air specific heat capacity (Btu/degF/cf)\",\"Sair\")\n",
    "DUMP(\"interior mass loading (Btu/degF/sf)\",\"Sint\")\n",
    "DUMP(\"interior heat capacity (Btu/degF)\",\"Cint\")\n",
    "DUMP(\"density of floor mass (lb/cf)\",\"Sfloor\")"
   ]
  },
  {
   "cell_type": "code",
   "execution_count": 11,
   "metadata": {},
   "outputs": [
    {
     "name": "stdout",
     "output_type": "stream",
     "text": [
      "Table 6: Conductance calculations (kBtu/degF.h)\n",
      "\n",
      "U_OA U_OU U_OC U_OM U_AU U_AC U_AM U_UC U_UM U_CM\n",
      "---- ---- ---- ---- ---- ---- ---- ---- ---- ----\n",
      "   5    0   25    0    0    4   91    0    5    1\n"
     ]
    }
   ],
   "source": [
    "# Table 6: Conductance calculations\n",
    "U_OA = N * M * beta * (Kx+1) * ( Ao/R_ext + Aw/R_window )\n",
    "U_OU = U_OA * (1-beta) / beta\n",
    "U_OC = N * (1-Kx) * (2*W*Z+(1-Kd)*M*X) * ( Ao/R_ext + Aw/R_window )\n",
    "U_OM = N * F * (M*X+2*(Kd+1)*Y+2*W) / R_ext\n",
    "U_AU = N * M * beta * (1-beta) * Au/R_int\n",
    "U_AC = N * M * beta * ( (Ac/((1-Kx)*R_int+Kx*R_ext)) + (Ad/R_door) ) \n",
    "U_AM = N * M * beta * A/R_mass\n",
    "U_UC = U_AC * (1-beta) / beta\n",
    "U_UM = U_AM * (1-beta) / beta\n",
    "U_CM = N * M * W * (Kd+1)/R_mass\n",
    "print(\"Table 6: Conductance calculations (kBtu/degF.h)\\n\\n\" + \n",
    "      \"U_OA U_OU U_OC U_OM U_AU U_AC U_AM U_UC U_UM U_CM\\n\" +\n",
    "      \"---- ---- ---- ---- ---- ---- ---- ---- ---- ----\\n\" +\n",
    "      \"%4.0f %4.0f %4.0f %4.0f %4.0f %4.0f %4.0f %4.0f %4.0f %4.0f\" \n",
    "      % (U_OA/1000,U_OU/1000,U_OC/1000,U_OM/1000,U_AU/1000,\n",
    "         U_AC/1000,U_AM/1000,U_UC/1000,U_UM/1000,U_CM/1000))"
   ]
  },
  {
   "cell_type": "code",
   "execution_count": 12,
   "metadata": {
    "scrolled": true
   },
   "outputs": [
    {
     "name": "stdout",
     "output_type": "stream",
     "text": [
      "U_OA = 5040.0 # UA outdoor occupied (Btu/degF/h)\n",
      "U_OU = 265.2631578947371 # UA outdoor unoccupied (Btu/degF/h)\n",
      "U_OC = 25465.263157894737 # UA outdoor core (Btu/degF/h)\n",
      "U_OM = 343.1578947368421 # UA outdoor mass (Btu/degF/h)\n",
      "U_AU = 304.0000000000003 # UA occupied unoccupied (Btu/degF/h)\n",
      "U_UC = 205.2000000000002 # UA occupied core (Btu/degF/h)\n",
      "U_AM = 91200.0 # UA occupied mass (Btu/degF/h)\n",
      "U_UC = 205.2000000000002 # UA unoccupied core (Btu/degF/h)\n",
      "U_UM = 4800.000000000004 # UA unoccupied mass (Btu/degF/h)\n",
      "U_CM = 1200.0 # UA core mass (Btu/degF/h)\n"
     ]
    }
   ],
   "source": [
    "DUMP(\"UA outdoor occupied (Btu/degF/h)\",\"U_OA\")\n",
    "DUMP(\"UA outdoor unoccupied (Btu/degF/h)\",\"U_OU\")\n",
    "DUMP(\"UA outdoor core (Btu/degF/h)\",\"U_OC\")\n",
    "DUMP(\"UA outdoor mass (Btu/degF/h)\",\"U_OM\")\n",
    "DUMP(\"UA occupied unoccupied (Btu/degF/h)\",\"U_AU\")\n",
    "DUMP(\"UA occupied core (Btu/degF/h)\",\"U_UC\")\n",
    "DUMP(\"UA occupied mass (Btu/degF/h)\",\"U_AM\")\n",
    "DUMP(\"UA unoccupied core (Btu/degF/h)\",\"U_UC\")\n",
    "DUMP(\"UA unoccupied mass (Btu/degF/h)\",\"U_UM\")\n",
    "DUMP(\"UA core mass (Btu/degF/h)\",\"U_CM\")"
   ]
  },
  {
   "cell_type": "code",
   "execution_count": 24,
   "metadata": {},
   "outputs": [
    {
     "name": "stdout",
     "output_type": "stream",
     "text": [
      "Table 7: Capacitance calculations (kBtu/degF)\n",
      "\n",
      "C_A  C_U  C_C  C_M\n",
      "---- ---- ---- ----\n",
      "  13    1    2 5310\n"
     ]
    }
   ],
   "source": [
    "# Table 7: Capacitance calculations\n",
    "C_A = N * M * beta * V * Sair\n",
    "C_U = N * M * (1-beta) * V * Sair\n",
    "C_C = N * M * X * W * Z * Sair\n",
    "C_M = N * M * (Cint + (1 + X * W) * F * Sfloor)\n",
    "print(\"Table 7: Capacitance calculations (kBtu/degF)\\n\\n\"\n",
    "     + \"C_A  C_U  C_C  C_M\\n\"\n",
    "     + \"---- ---- ---- ----\\n\"\n",
    "     + \"%4.0f %4.0f %4.0f %4.0f\"\n",
    "     % (C_A/1000,C_U/1000,C_C/1000,C_M/1000))"
   ]
  },
  {
   "cell_type": "code",
   "execution_count": 36,
   "metadata": {},
   "outputs": [
    {
     "name": "stdout",
     "output_type": "stream",
     "text": [
      "C_A = 12880.86912 # occupied zone heat capacity (Btu/degF)\n",
      "C_U = 677.9404800000005 # unoccupied zone heat capacity (Btu/degF)\n",
      "C_C = 2033.82144 # core zone heat capacity (Btu/degF)\n",
      "C_M = 5310000.0 # mass heat capacity (Btu/degF)\n"
     ]
    }
   ],
   "source": [
    "DUMP(\"occupied zone heat capacity (Btu/degF)\",\"C_A\")\n",
    "DUMP(\"unoccupied zone heat capacity (Btu/degF)\",\"C_U\")\n",
    "DUMP(\"core zone heat capacity (Btu/degF)\",\"C_C\")\n",
    "DUMP(\"mass heat capacity (Btu/degF)\",\"C_M\")"
   ]
  },
  {
   "cell_type": "code",
   "execution_count": 37,
   "metadata": {
    "scrolled": true
   },
   "outputs": [
    {
     "name": "stdout",
     "output_type": "stream",
     "text": [
      "Q_AS = 500000 # occupied zone solar gain\n",
      "Q_AV = -10000 # occupied zone ventilation gain\n",
      "Q_AE = 10000 # occupied zone equipment gain\n",
      "Q_US = 25000.000000000022 # unoccupied zone solar gain\n",
      "Q_CS = 1000 # core zone solar gain\n",
      "Q_CV = -5000 # core zone ventilation gain\n"
     ]
    }
   ],
   "source": [
    "DUMP(\"occupied zone solar gain\",\"Q_AS\");\n",
    "DUMP(\"occupied zone ventilation gain\",\"Q_AV\");\n",
    "DUMP(\"occupied zone equipment gain\",\"Q_AE\");\n",
    "DUMP(\"unoccupied zone solar gain\",\"Q_US\");\n",
    "DUMP(\"core zone solar gain\",\"Q_CS\");\n",
    "DUMP(\"core zone ventilation gain\",\"Q_CV\");"
   ]
  },
  {
   "cell_type": "code",
   "execution_count": 26,
   "metadata": {
    "scrolled": true
   },
   "outputs": [
    {
     "name": "stdout",
     "output_type": "stream",
     "text": [
      "unit_temperature = 0 # unit air temperature\n",
      "vacant_temperature = 0 # vacant air temperature\n",
      "core_temperature = 0 # core air temperature\n",
      "mass_temperature = 0 # mass temperature\n",
      "unit_mode = 0 # occupied zone mode\n",
      "vacant_mode = 0 # unoccupied zone mode\n",
      "core_mode = 0 # core zone mode\n"
     ]
    }
   ],
   "source": [
    "unit_temperature = 0\n",
    "vacant_temperature = 0\n",
    "core_temperature = 0\n",
    "mass_temperature = 0\n",
    "unit_mode = 0\n",
    "vacant_mode = 0\n",
    "core_mode = 0\n",
    "DUMP(\"unit air temperature\",\"unit_temperature\");\n",
    "DUMP(\"vacant air temperature\",\"vacant_temperature\");\n",
    "DUMP(\"core air temperature\",\"core_temperature\");\n",
    "DUMP(\"mass temperature\",\"mass_temperature\");\n",
    "DUMP(\"occupied zone mode\",\"unit_mode\");\n",
    "DUMP(\"unoccupied zone mode\",\"vacant_mode\");\n",
    "DUMP(\"core zone mode\",\"core_mode\");"
   ]
  },
  {
   "cell_type": "code",
   "execution_count": 27,
   "metadata": {},
   "outputs": [
    {
     "name": "stdout",
     "output_type": "stream",
     "text": [
      "Thermal conditions\n",
      "\n",
      "T_O   Q_A  Q_U  Q_C\n",
      "degF     kBtu/h    \n",
      "---- ---- ---- ----\n",
      " -20  500   26   -5\n"
     ]
    }
   ],
   "source": [
    "# boundary condition\n",
    "q = matrix([[T_O], [Q_AS+Q_AV+Q_AE], [Q_US+Q_CS], [Q_CV]])\n",
    "print(\"Thermal conditions\\n\\n\"\n",
    "     + \"T_O   Q_A  Q_U  Q_C\\n\"\n",
    "     + \"degF     kBtu/h    \\n\"\n",
    "     + \"---- ---- ---- ----\")\n",
    "print(\"%4.0f %4.0f %4.0f %4.0f\"\n",
    "     % (q[0],q[1]/1000,q[2]/1000,q[3]/1000))"
   ]
  },
  {
   "cell_type": "code",
   "execution_count": 28,
   "metadata": {},
   "outputs": [
    {
     "data": {
      "text/plain": [
       "2"
      ]
     },
     "execution_count": 28,
     "metadata": {},
     "output_type": "execute_result"
    }
   ],
   "source": [
    "from numpy.linalg import *\n",
    "# compute the solution matrices\n",
    "A = matrix([ \n",
    "      [-(U_OA+U_AU+U_AC+U_AM)/C_A,                   U_AU/C_A,                   U_AC/C_A,                   U_AM/C_A],\n",
    "      [                  U_AU/C_U, -(U_OU+U_AU+U_UC+U_UM)/C_U,                   U_UC/C_U,                   U_UM/C_U],\n",
    "      [                  U_AC/C_C,                   U_UC/C_C, -(U_OC+U_AC+U_UC+U_CM)/C_C,                   U_CM/C_C],\n",
    "      [                  U_AM/C_M,                   U_UM/C_M,                   U_CM/C_M, -(U_OM+U_AM+U_UM+U_CM)/C_M]\n",
    "    ])\n",
    "a = 0.9 # fraction of heat gain that goes to zone instead of mass\n",
    "b = 1-a # fraction of heat gain that is taken up directly by mass\n",
    "B1 = matrix([ \n",
    "       [ U_OA/C_A, a/C_A,     0,     0],\n",
    "       [ U_OU/C_U,     0, a/C_U,     0],\n",
    "       [ U_OC/C_C,     0,     0, a/C_C],\n",
    "       [ U_OM/C_M, b/C_M, b/C_M, b/C_M]\n",
    "      ])\n",
    "B2 = matrix([ \n",
    "       [ a/C_A,     0,     0,     0],\n",
    "       [     0, a/C_U,     0,     0],\n",
    "       [     0,     0, a/C_C,     0],\n",
    "       [ b/C_M, b/C_M, b/C_M, 1/C_M]\n",
    "      ])\n",
    "ndim(B2)"
   ]
  },
  {
   "cell_type": "code",
   "execution_count": 35,
   "metadata": {},
   "outputs": [
    {
     "name": "stdout",
     "output_type": "stream",
     "text": [
      "[[-7.79782785e+00  2.36008919e-02  3.02681439e-01  7.08026758e+00]\n",
      " [ 4.48416947e-01 -8.22264391e+00  3.02681439e-01  7.08026758e+00]\n",
      " [ 1.91698245e+00  1.00893813e-01 -1.51287928e+01  5.90022298e-01]\n",
      " [ 1.71751412e-02  9.03954802e-04  2.25988701e-04 -1.83697096e-02]]\n"
     ]
    }
   ],
   "source": [
    "print(A)"
   ]
  },
  {
   "cell_type": "code",
   "execution_count": 29,
   "metadata": {},
   "outputs": [
    {
     "name": "stdout",
     "output_type": "stream",
     "text": [
      "Temperatures (degF)\n",
      "\n",
      "Zone  dT/dt   Eq   Set \n",
      "----- ----- ----- -----\n",
      "T_A    -0.0  32.3   0.0\n",
      "T_U    -0.0  32.2  10.0\n",
      "T_C     0.0 -11.1   5.0\n",
      "T_M     0.0  32.1   --\n"
     ]
    }
   ],
   "source": [
    "T = matrix([[unit_temperature],[vacant_temperature],[core_temperature],[mass_temperature]])\n",
    "Ainv = inv(A)\n",
    "T_eq = -Ainv*(B1*q)\n",
    "dT = A*T_eq + B1*q\n",
    "T_set = m*matrix([[0],[T_unoccupied],[T_core],[0]])\n",
    "print(\"Temperatures (degF)\\n\\n\"\n",
    "     + \"Zone  dT/dt   Eq   Set \\n\"\n",
    "     + \"----- ----- ----- -----\")\n",
    "print(\"%-5.5s %5.1f %5.1f %5.1f\" % ('T_A',dT[0],T_eq[0],T_set[0]))\n",
    "print(\"%-5.5s %5.1f %5.1f %5.1f\" % ('T_U',dT[1],T_eq[1],T_set[1]))\n",
    "print(\"%-5.5s %5.1f %5.1f %5.1f\" % ('T_C',dT[2],T_eq[2],T_set[2]))\n",
    "print(\"%-5.5s %5.1f %5.1f   --\" % ('T_M',dT[3],T_eq[3]))"
   ]
  },
  {
   "cell_type": "code",
   "execution_count": 30,
   "metadata": {},
   "outputs": [
    {
     "name": "stdout",
     "output_type": "stream",
     "text": [
      "shortfall = -136 kBtu/h\n",
      "dTA = -1.75 degF/h\n",
      "dTU = 80.71 degF/h\n",
      "dTC = 74.64 degF/h\n",
      "dTM = 0.02 degF/h\n",
      "dt = 45 sec\n"
     ]
    }
   ],
   "source": [
    "# initial temperature\n",
    "T = matrix([[0], [0], [0], [0]])\n",
    "# solve for the required control\n",
    "u_req = -inv(B2) * (A*T_set+B1*q);\n",
    "# constrain the solution\n",
    "u = hstack((u_max,hstack((u_req,u_min)).max(axis=1))).min(axis=1)\n",
    "# compute the temperature changes\n",
    "dT = A*T + B1*q + B2*u\n",
    "# compute time to change 0.1 degF\n",
    "dt = 3600/max(abs(dT))[0,0]\n",
    "# show me\n",
    "print(\"shortfall = %.0f kBtu/h\" % (sum(u_req - u)/1000))\n",
    "print(\"dTA = %.2f degF/h\" % (dT[0,0]))\n",
    "print(\"dTU = %.2f degF/h\" % (dT[1,0]))\n",
    "print(\"dTC = %.2f degF/h\" % (dT[2,0]))\n",
    "print(\"dTM = %.2f degF/h\" % (dT[3,0]))\n",
    "print(\"dt = %.0f sec\" % (dt))"
   ]
  },
  {
   "cell_type": "code",
   "execution_count": 31,
   "metadata": {},
   "outputs": [
    {
     "name": "stdout",
     "output_type": "stream",
     "text": [
      "Mode Power\n",
      "---- -----\n",
      "   1   122\n"
     ]
    }
   ],
   "source": [
    "# power requirements\n",
    "if m < 0: eta = e_heat \n",
    "else: eta = e_cool\n",
    "P = m*sum(u)/eta\n",
    "print(\"Mode Power\\n\"\n",
    "      + \"---- -----\\n\"\n",
    "      + \"%4.0f %5.0f\"\n",
    "      % (m,P/1000))"
   ]
  },
  {
   "cell_type": "markdown",
   "metadata": {},
   "source": [
    "---\n",
    "Worksheets..."
   ]
  },
  {
   "cell_type": "code",
   "execution_count": 32,
   "metadata": {},
   "outputs": [
    {
     "data": {
      "text/plain": [
       "matrix([[13.3829411 ],\n",
       "        [23.3829411 ],\n",
       "        [ 7.35418037],\n",
       "        [14.59400421]])"
      ]
     },
     "execution_count": 32,
     "metadata": {},
     "output_type": "execute_result"
    }
   ],
   "source": [
    "Teq = -Ainv * (B1*q+B2*u)\n",
    "Teq"
   ]
  },
  {
   "cell_type": "code",
   "execution_count": 33,
   "metadata": {},
   "outputs": [
    {
     "data": {
      "text/plain": [
       "matrix([[0.77606724, 0.        , 0.        , 0.        ],\n",
       "        [0.        , 0.99997082, 0.        , 0.        ],\n",
       "        [0.        , 0.        , 0.87943303, 0.        ],\n",
       "        [0.        , 0.        , 0.        , 0.8715889 ]])"
      ]
     },
     "execution_count": 33,
     "metadata": {},
     "output_type": "execute_result"
    }
   ],
   "source": [
    "t = 60/3600\n",
    "Aeig=matrix(diag(exp(eig(A)[0]*t)))\n",
    "Aeig"
   ]
  },
  {
   "cell_type": "code",
   "execution_count": 34,
   "metadata": {},
   "outputs": [
    {
     "data": {
      "text/plain": [
       "matrix([[14.22693114],\n",
       "        [24.27472338],\n",
       "        [ 8.09891637],\n",
       "        [15.54404966]])"
      ]
     },
     "execution_count": 34,
     "metadata": {},
     "output_type": "execute_result"
    }
   ],
   "source": [
    "Teq + Aeig*T + Ainv*(Aeig-eye(4))*(B1*q+B2*u)"
   ]
  },
  {
   "cell_type": "code",
   "execution_count": 38,
   "metadata": {},
   "outputs": [
    {
     "data": {
      "text/plain": [
       "(array([-1.52109667e+01, -1.75065019e-03, -7.70867207e+00, -8.24624480e+00]),\n",
       " matrix([[-4.06653961e-02,  5.57314332e-01,  6.94401161e-01,\n",
       "           5.25588331e-02],\n",
       "         [-4.06653961e-02,  5.57314332e-01,  6.94401161e-01,\n",
       "          -9.98617829e-01],\n",
       "         [ 9.98344955e-01,  9.80425922e-02,  1.88709754e-01,\n",
       "           3.68477058e-15],\n",
       "         [ 3.35412649e-05,  6.07609349e-01, -1.63800992e-03,\n",
       "          -3.35246549e-17]]))"
      ]
     },
     "execution_count": 38,
     "metadata": {},
     "output_type": "execute_result"
    }
   ],
   "source": [
    "eig(A)"
   ]
  },
  {
   "cell_type": "code",
   "execution_count": null,
   "metadata": {},
   "outputs": [],
   "source": []
  }
 ],
 "metadata": {
  "kernelspec": {
   "display_name": "Python 3",
   "language": "python",
   "name": "python3"
  },
  "language_info": {
   "codemirror_mode": {
    "name": "ipython",
    "version": 3
   },
   "file_extension": ".py",
   "mimetype": "text/x-python",
   "name": "python",
   "nbconvert_exporter": "python",
   "pygments_lexer": "ipython3",
   "version": "3.7.3"
  }
 },
 "nbformat": 4,
 "nbformat_minor": 2
}
